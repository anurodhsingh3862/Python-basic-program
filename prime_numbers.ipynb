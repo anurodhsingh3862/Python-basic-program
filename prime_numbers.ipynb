{
  "nbformat": 4,
  "nbformat_minor": 0,
  "metadata": {
    "colab": {
      "provenance": []
    },
    "kernelspec": {
      "name": "python3",
      "display_name": "Python 3"
    },
    "language_info": {
      "name": "python"
    }
  },
  "cells": [
    {
      "cell_type": "code",
      "execution_count": 11,
      "metadata": {
        "colab": {
          "base_uri": "https://localhost:8080/"
        },
        "id": "sli0JCIE4bux",
        "outputId": "9449920d-6e04-4d4f-ead8-6afeb2e49d5f"
      },
      "outputs": [
        {
          "output_type": "stream",
          "name": "stdout",
          "text": [
            "The prime numbers in the given range entered by you are\n",
            "11 13 17 19 23 29 31 37 41 43 47 "
          ]
        }
      ],
      "source": [
        "lower = 10\n",
        "upper = 50\n",
        "print(\"The prime numbers in the given range entered by you are\")\n",
        "for n in range(lower,upper+1):\n",
        "  if n>1:\n",
        "    for i in range (2,n):\n",
        "      if(n % i) == 0:\n",
        "        break\n",
        "    else:\n",
        "      print(n,end= \" \")\n",
        ""
      ]
    },
    {
      "cell_type": "code",
      "source": [
        "t = int(input(\"Enter any number: \"))\n",
        "\n",
        "if t > 1:\n",
        "    for i in range(2, t):\n",
        "        if t % i == 0:\n",
        "            print(\"The number entered is not a prime number.\")\n",
        "            break\n",
        "    else:\n",
        "        print(\"The number entered is a prime number.\")\n",
        "else:\n",
        "    print(\"The number entered is not a prime number.\")"
      ],
      "metadata": {
        "colab": {
          "base_uri": "https://localhost:8080/"
        },
        "id": "Hl2a4c_WA9pK",
        "outputId": "07ab2159-5dae-474d-cfd9-2f27cb07baad"
      },
      "execution_count": 24,
      "outputs": [
        {
          "output_type": "stream",
          "name": "stdout",
          "text": [
            "Enter any number: 66\n",
            "The number entered is not a prime number.\n"
          ]
        }
      ]
    }
  ]
}