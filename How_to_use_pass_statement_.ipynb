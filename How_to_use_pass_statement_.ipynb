{
  "nbformat": 4,
  "nbformat_minor": 0,
  "metadata": {
    "colab": {
      "provenance": []
    },
    "kernelspec": {
      "name": "python3",
      "display_name": "Python 3"
    },
    "language_info": {
      "name": "python"
    }
  },
  "cells": [
    {
      "cell_type": "code",
      "execution_count": 1,
      "metadata": {
        "colab": {
          "base_uri": "https://localhost:8080/"
        },
        "id": "x_GTeIqKCDBL",
        "outputId": "06bdd191-af87-490d-bf23-6490d3856892"
      },
      "outputs": [
        {
          "output_type": "stream",
          "name": "stdout",
          "text": [
            "6\n",
            "7\n",
            "8\n",
            "9\n"
          ]
        }
      ],
      "source": [
        "#10 How to use pass statement\n",
        "i=1\n",
        "for i in range (1,11):\n",
        "  pass\n",
        "  if i>5 and i<=9:\n",
        "    print(i)"
      ]
    },
    {
      "cell_type": "code",
      "source": [
        "num = [12,67,88,545,93,6876,5454,777,429645,5425,87908,2365]\n",
        "for i in num:\n",
        "  if i%2!=0:\n",
        "    pass\n",
        "  else:\n",
        "    print(i,end=\" \")"
      ],
      "metadata": {
        "colab": {
          "base_uri": "https://localhost:8080/"
        },
        "id": "1s2tP8aQCk4R",
        "outputId": "0069bf81-7a0e-484f-b516-7e3936e975a6"
      },
      "execution_count": 6,
      "outputs": [
        {
          "output_type": "stream",
          "name": "stdout",
          "text": [
            "12 88 6876 5454 87908 "
          ]
        }
      ]
    }
  ]
}