{
  "nbformat": 4,
  "nbformat_minor": 0,
  "metadata": {
    "colab": {
      "provenance": []
    },
    "kernelspec": {
      "name": "python3",
      "display_name": "Python 3"
    },
    "language_info": {
      "name": "python"
    }
  },
  "cells": [
    {
      "cell_type": "code",
      "execution_count": 7,
      "metadata": {
        "colab": {
          "base_uri": "https://localhost:8080/"
        },
        "id": "BrrRVgAR7BDP",
        "outputId": "bb2d8bb6-5f09-4b11-e164-9e80ed11ffdc"
      },
      "outputs": [
        {
          "output_type": "stream",
          "name": "stdout",
          "text": [
            "['apple', 'orange', 'banana', 'cherry']\n",
            "cherry\n",
            "['apple', 'cherry', 'papaya']\n"
          ]
        },
        {
          "output_type": "execute_result",
          "data": {
            "text/plain": [
              "[15, 43, 12, 42, 33, 56]"
            ]
          },
          "metadata": {},
          "execution_count": 7
        }
      ],
      "source": [
        "#18. Insert,Pop,Remove,Reverse in LIST\n",
        "\n",
        "fruits=['apple','banana','cherry']\n",
        "fruits.insert(1,'orange')\n",
        "print(fruits)\n",
        "\n",
        "print(fruits.pop())\n",
        "\n",
        "fruits=['apple','banana','cherry','papaya']\n",
        "fruits.remove('banana')\n",
        "print(fruits)\n",
        "\n",
        "age=[56,33,42,12,43,15]\n",
        "age.reverse()\n",
        "age"
      ]
    }
  ]
}