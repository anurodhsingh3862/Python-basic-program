{
  "nbformat": 4,
  "nbformat_minor": 0,
  "metadata": {
    "colab": {
      "provenance": []
    },
    "kernelspec": {
      "name": "python3",
      "display_name": "Python 3"
    },
    "language_info": {
      "name": "python"
    }
  },
  "cells": [
    {
      "cell_type": "code",
      "execution_count": 5,
      "metadata": {
        "colab": {
          "base_uri": "https://localhost:8080/"
        },
        "id": "MZQB2ZAP5Asm",
        "outputId": "f6979659-4f65-46a8-9603-27e8cc41aae5"
      },
      "outputs": [
        {
          "output_type": "stream",
          "name": "stdout",
          "text": [
            "[2, 7, 9, 4, 3, 5, 0]\n",
            "[2, 7, 9, 4, 3, 5, 0]\n",
            "5\n",
            "[2, 4, 6, 8, 10, 12, 14, 16, 18, 20]\n"
          ]
        }
      ],
      "source": [
        "#17. Copy,extend and index in LIST\n",
        "\n",
        "u=[2,7,9,4,3,5,0]\n",
        "print(u)\n",
        "j=u.copy()\n",
        "print(j)\n",
        "\n",
        "print(u.index(5))\n",
        "\n",
        "even_one = [2,4,6,8,10]\n",
        "even_two = [12,14,16,18,20]\n",
        "even_one.extend(even_two)\n",
        "print(even_one)"
      ]
    }
  ]
}