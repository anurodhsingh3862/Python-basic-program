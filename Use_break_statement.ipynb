{
  "nbformat": 4,
  "nbformat_minor": 0,
  "metadata": {
    "colab": {
      "provenance": []
    },
    "kernelspec": {
      "name": "python3",
      "display_name": "Python 3"
    },
    "language_info": {
      "name": "python"
    }
  },
  "cells": [
    {
      "cell_type": "code",
      "source": [
        "#8. How to use 'break' statement\n",
        "\n",
        "for i in 'INDIAN':\n",
        "  print (i)\n",
        "  if i=='D':\n",
        "    break"
      ],
      "metadata": {
        "colab": {
          "base_uri": "https://localhost:8080/"
        },
        "id": "lIgvk4Wn7vHz",
        "outputId": "784d8e75-befc-4693-bef4-7f75762cdc9c"
      },
      "execution_count": 7,
      "outputs": [
        {
          "output_type": "stream",
          "name": "stdout",
          "text": [
            "I\n",
            "N\n",
            "D\n"
          ]
        }
      ]
    },
    {
      "cell_type": "code",
      "execution_count": 4,
      "metadata": {
        "colab": {
          "base_uri": "https://localhost:8080/"
        },
        "id": "-btndd6T6Qqr",
        "outputId": "120c49cf-4d32-4b7d-f0d3-8e1b6332cf19"
      },
      "outputs": [
        {
          "output_type": "stream",
          "name": "stdout",
          "text": [
            "How are you\n",
            "How are you\n",
            "How are you\n",
            "How are you\n",
            "How are you\n"
          ]
        }
      ],
      "source": [
        "i=1\n",
        "while (i<=10):\n",
        "  print(\"How are you\")\n",
        "  if (i==5):\n",
        "    break\n",
        "  i=i+1\n"
      ]
    }
  ]
}