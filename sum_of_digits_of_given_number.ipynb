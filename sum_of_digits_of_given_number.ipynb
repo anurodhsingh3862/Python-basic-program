{
  "nbformat": 4,
  "nbformat_minor": 0,
  "metadata": {
    "colab": {
      "provenance": []
    },
    "kernelspec": {
      "name": "python3",
      "display_name": "Python 3"
    },
    "language_info": {
      "name": "python"
    }
  },
  "cells": [
    {
      "cell_type": "code",
      "execution_count": 6,
      "metadata": {
        "colab": {
          "base_uri": "https://localhost:8080/"
        },
        "id": "tVcpR47IPLrN",
        "outputId": "3dbf404b-ede0-424e-d4bf-2473696c40e9"
      },
      "outputs": [
        {
          "output_type": "stream",
          "name": "stdout",
          "text": [
            "Enter any number: 67\n",
            "The sum of the digits of the entered number is 13\n"
          ]
        }
      ],
      "source": [
        "#04. To print the sum of digits in a number\n",
        "\n",
        "num = int(input(\"Enter any number: \"))\n",
        "sum = 0\n",
        "\n",
        "while num > 0:\n",
        "    rem = num % 10\n",
        "    sum += rem\n",
        "    num = num // 10\n",
        "\n",
        "print(\"The sum of the digits of the entered number is\", sum)"
      ]
    }
  ]
}