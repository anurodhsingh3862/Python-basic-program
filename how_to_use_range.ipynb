{
  "nbformat": 4,
  "nbformat_minor": 0,
  "metadata": {
    "colab": {
      "provenance": []
    },
    "kernelspec": {
      "name": "python3",
      "display_name": "Python 3"
    },
    "language_info": {
      "name": "python"
    }
  },
  "cells": [
    {
      "cell_type": "code",
      "execution_count": 1,
      "metadata": {
        "colab": {
          "base_uri": "https://localhost:8080/"
        },
        "id": "AcyuGzgfwnLm",
        "outputId": "5e2e5f76-351a-4262-810f-fa92100b18cb"
      },
      "outputs": [
        {
          "output_type": "stream",
          "name": "stdout",
          "text": [
            "0\n",
            "1\n",
            "2\n",
            "3\n",
            "4\n",
            "5\n",
            "finally finished\n"
          ]
        }
      ],
      "source": [
        "#06. How to use range\n",
        "\n",
        "for x in range(6):\n",
        "  print (x)\n",
        "else:\n",
        "  print(\"finally finished\")"
      ]
    }
  ]
}