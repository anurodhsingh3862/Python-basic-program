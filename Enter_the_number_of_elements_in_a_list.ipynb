{
  "nbformat": 4,
  "nbformat_minor": 0,
  "metadata": {
    "colab": {
      "provenance": []
    },
    "kernelspec": {
      "name": "python3",
      "display_name": "Python 3"
    },
    "language_info": {
      "name": "python"
    }
  },
  "cells": [
    {
      "cell_type": "code",
      "execution_count": 3,
      "metadata": {
        "colab": {
          "base_uri": "https://localhost:8080/"
        },
        "id": "aeGe6mDrBu_w",
        "outputId": "3d9d364c-703f-43a0-ed4a-65a1b1a83241"
      },
      "outputs": [
        {
          "output_type": "stream",
          "name": "stdout",
          "text": [
            "Enter the number of elements you want in a list: 3\n",
            "enter the element: 1\n",
            "enter the element: 2\n",
            "enter the element: 3\n",
            "[1, 2, 3]\n"
          ]
        }
      ],
      "source": [
        "#20. Enter the number of elements in a list\n",
        "\n",
        "n=int(input(\"Enter the number of elements you want in a list: \"))\n",
        "list=[]\n",
        "for i in range (0,n):\n",
        "  element = int(input(\"enter the element: \"))\n",
        "  list.append(element)\n",
        "\n",
        "print(list)"
      ]
    }
  ]
}