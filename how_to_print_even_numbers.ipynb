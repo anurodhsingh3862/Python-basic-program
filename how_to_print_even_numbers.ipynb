{
  "nbformat": 4,
  "nbformat_minor": 0,
  "metadata": {
    "colab": {
      "provenance": []
    },
    "kernelspec": {
      "name": "python3",
      "display_name": "Python 3"
    },
    "language_info": {
      "name": "python"
    }
  },
  "cells": [
    {
      "cell_type": "code",
      "execution_count": 1,
      "metadata": {
        "colab": {
          "base_uri": "https://localhost:8080/",
          "height": 0
        },
        "id": "MonQyQfcDmwj",
        "outputId": "a27830f4-e9d9-4220-8c11-cbcd3846e17a"
      },
      "outputs": [
        {
          "output_type": "stream",
          "name": "stdout",
          "text": [
            "2 4 6 8 10 12 14 16 18 20 22 24 26 28 30 32 34 36 38 40 42 44 46 48 50 "
          ]
        }
      ],
      "source": [
        "#11 How to print even numbers in a range\n",
        "for i in range(1,51):\n",
        "  if i%2!=0:\n",
        "    pass\n",
        "  else:\n",
        "    print(i,end=\" \")"
      ]
    }
  ]
}