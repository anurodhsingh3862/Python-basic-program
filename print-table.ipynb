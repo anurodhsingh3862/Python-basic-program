{
  "nbformat": 4,
  "nbformat_minor": 0,
  "metadata": {
    "colab": {
      "provenance": []
    },
    "kernelspec": {
      "name": "python3",
      "display_name": "Python 3"
    },
    "language_info": {
      "name": "python"
    }
  },
  "cells": [
    {
      "cell_type": "code",
      "execution_count": 10,
      "metadata": {
        "colab": {
          "base_uri": "https://localhost:8080/"
        },
        "id": "Z63N01sq4i1n",
        "outputId": "39c4ac4c-c826-4adc-a2bd-7e4d6c469b39"
      },
      "outputs": [
        {
          "output_type": "stream",
          "name": "stdout",
          "text": [
            "enter any number9887756\n",
            "9887756 X 1 = 9887756\n",
            "9887756 X 2 = 19775512\n",
            "9887756 X 3 = 29663268\n",
            "9887756 X 4 = 39551024\n",
            "9887756 X 5 = 49438780\n",
            "9887756 X 6 = 59326536\n",
            "9887756 X 7 = 69214292\n",
            "9887756 X 8 = 79102048\n",
            "9887756 X 9 = 88989804\n",
            "9887756 X 10 = 98877560\n"
          ]
        }
      ],
      "source": [
        "#03. Program to print the table of a number entered by user\n",
        "\n",
        "a=int(input(\"enter any number\"))\n",
        "b=1\n",
        "while (b<11):\n",
        "  print(a,\"X\",b,\"=\",b*a)\n",
        "  b=b+1"
      ]
    },
    {
      "cell_type": "code",
      "source": [],
      "metadata": {
        "id": "VUqE4QHo_lv0"
      },
      "execution_count": null,
      "outputs": []
    }
  ]
}