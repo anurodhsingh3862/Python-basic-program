{
  "nbformat": 4,
  "nbformat_minor": 0,
  "metadata": {
    "colab": {
      "provenance": []
    },
    "kernelspec": {
      "name": "python3",
      "display_name": "Python 3"
    },
    "language_info": {
      "name": "python"
    }
  },
  "cells": [
    {
      "cell_type": "code",
      "execution_count": 1,
      "metadata": {
        "colab": {
          "base_uri": "https://localhost:8080/"
        },
        "id": "RW8NvSNc3Vw-",
        "outputId": "a9874892-c609-4806-b36a-cf56577ae1b1"
      },
      "outputs": [
        {
          "output_type": "stream",
          "name": "stdout",
          "text": [
            "[1, 8, 27, 64, 125, 216]\n",
            "[1, 8, 27, 64, 125, 216, 343]\n"
          ]
        }
      ],
      "source": [
        "#16. Append,clear,count in List\n",
        "cubes=[1,8,27,64,125]\n",
        "cubes.append(216)\n",
        "print(cubes)\n",
        "cubes.append(7**3)\n",
        "print(cubes)"
      ]
    },
    {
      "cell_type": "code",
      "source": [
        "x=[2,4,1,8,0]\n",
        "print(x)\n",
        "y=x.clear()\n",
        "print(y)\n",
        "\n",
        "vowels=['a','e','i','o','u','o']\n",
        "vowels.count('o')"
      ],
      "metadata": {
        "colab": {
          "base_uri": "https://localhost:8080/"
        },
        "id": "K_bSSojb30Hd",
        "outputId": "ec4c4339-6b7d-4831-88ba-8789089eb5ef"
      },
      "execution_count": 5,
      "outputs": [
        {
          "output_type": "stream",
          "name": "stdout",
          "text": [
            "[2, 4, 1, 8, 0]\n",
            "None\n"
          ]
        },
        {
          "output_type": "execute_result",
          "data": {
            "text/plain": [
              "2"
            ]
          },
          "metadata": {},
          "execution_count": 5
        }
      ]
    }
  ]
}